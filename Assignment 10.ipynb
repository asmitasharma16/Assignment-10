{
 "cells": [
  {
   "cell_type": "markdown",
   "metadata": {},
   "source": [
    "Q.1- Write a Python program to read n lines of a file"
   ]
  },
  {
   "cell_type": "code",
   "execution_count": 13,
   "metadata": {},
   "outputs": [
    {
     "name": "stdout",
     "output_type": "stream",
     "text": [
      "Enter no. of lines you want to read from file =4\n",
      "PYTHON\n",
      "\n",
      "Python can be used on a server to create web applications.\n",
      "\n",
      "Python can be used alongside software to create workflows.\n",
      "\n",
      "Python can connect to database systems. It can also read and modify files.\n",
      "\n"
     ]
    }
   ],
   "source": [
    "n =int(input('Enter no. of lines you want to read from file ='))\n",
    "f=open('text','r')\n",
    "for i in range (n):\n",
    "    line=f.readline()\n",
    "    print(line)\n",
    "f.close()    "
   ]
  },
  {
   "cell_type": "markdown",
   "metadata": {},
   "source": [
    "Q.2- Write a Python program to count the frequency of words in a file."
   ]
  },
  {
   "cell_type": "code",
   "execution_count": 22,
   "metadata": {},
   "outputs": [
    {
     "name": "stdout",
     "output_type": "stream",
     "text": [
      "PYTHON -> 1\n",
      "Python -> 5\n",
      "can -> 6\n",
      "be -> 4\n",
      "used -> 4\n",
      "on -> 1\n",
      "a -> 1\n",
      "server -> 1\n",
      "to -> 4\n",
      "create -> 2\n",
      "web -> 1\n",
      "applications. -> 1\n",
      "alongside -> 1\n",
      "software -> 2\n",
      "workflows. -> 1\n",
      "connect -> 1\n",
      "database -> 1\n",
      "systems. -> 1\n",
      "It -> 1\n",
      "also -> 1\n",
      "read -> 1\n",
      "and -> 2\n",
      "modify -> 1\n",
      "files. -> 1\n",
      "handle -> 1\n",
      "big -> 1\n",
      "data -> 1\n",
      "perform -> 1\n",
      "complex -> 1\n",
      "mathematics. -> 1\n",
      "for -> 2\n",
      "rapid -> 1\n",
      "prototyping, -> 1\n",
      "or -> 1\n",
      "production-ready -> 1\n",
      "development. -> 1\n"
     ]
    }
   ],
   "source": [
    "f=open('text','r')\n",
    "data=f.read().split( )#read all data from file and split it.\n",
    "wordcount={ }\n",
    "for word in data:\n",
    "    if word not in wordcount:\n",
    "        wordcount[word]=1\n",
    "    else:\n",
    "        wordcount[word]+=1\n",
    "    \n",
    "for k,v in wordcount.items( ):\n",
    "    print(k,'->',v)\n",
    "f.close()    "
   ]
  },
  {
   "cell_type": "markdown",
   "metadata": {},
   "source": [
    "Q.3- Write a Python program to copy the contents of a file to another file"
   ]
  },
  {
   "cell_type": "code",
   "execution_count": 25,
   "metadata": {},
   "outputs": [],
   "source": [
    "with open('text.','r') as t1:\n",
    "    with open('text2','w') as t2:\n",
    "        for i in t1:\n",
    "            t2.write(i)\n",
    "t1.close()\n",
    "t2.close()"
   ]
  },
  {
   "cell_type": "markdown",
   "metadata": {},
   "source": [
    "Q.4- Write a Python program to combine each line from first file with the corresponding line in second file."
   ]
  },
  {
   "cell_type": "code",
   "execution_count": 32,
   "metadata": {},
   "outputs": [
    {
     "name": "stdout",
     "output_type": "stream",
     "text": [
      "PYTHON\n",
      "-------------------------------------------------------------------------------------------------------------------------------------\n",
      "\n",
      "Python can be used on a server to create web applications.\n",
      "*********************************************************************************************************\n",
      "\n",
      "Python can be used alongside software to create workflows.\n",
      "--------------------------------------------------------------------------------------------------------------------------------------\n",
      "\n",
      "Python can connect to database systems. It can also read and modify files.\n",
      "**********************************************************************************************************\n",
      "\n",
      "Python can be used to handle big data and perform complex mathematics.\n",
      "---------------------------------------------------------------------------------------------------------------------------------------\n",
      "\n",
      "Python can be used for rapid prototyping, or for production-ready software development.\n",
      "**********************************************************************************************************\n",
      "\n"
     ]
    }
   ],
   "source": [
    "with open('text2') as t1, open('text3') as t2:\n",
    "    for l1,l2 in zip(t1 , t2):\n",
    "        print(l1+l2)\n",
    "t1.close()\n",
    "t2.close()"
   ]
  },
  {
   "cell_type": "markdown",
   "metadata": {},
   "source": [
    "Q.5- Write a Python program to write 10 random numbers into a file. Read the file and then sort the numbers and then store it to another file."
   ]
  },
  {
   "cell_type": "code",
   "execution_count": 64,
   "metadata": {},
   "outputs": [
    {
     "name": "stdout",
     "output_type": "stream",
     "text": [
      "[3, 2, 1, 5, 7, 9, 4, 6, 0, 8]\n",
      "[0, 1, 2, 3, 4, 5, 6, 7, 8, 9]\n"
     ]
    }
   ],
   "source": [
    "f1 = open('file1.txt', 'w')\n",
    "lines = ['3', '2', '1','5','7','9','4','6','0','8']\n",
    "l1=[ ]\n",
    "l2=[ ]\n",
    "f1.writelines(lines)\n",
    "f1.close()\n",
    "f1=open('file1.txt','r')\n",
    "numbers=f1.read()\n",
    "for n in numbers:\n",
    "    l1.append(int(n))\n",
    "print(l1)\n",
    "l1.sort()\n",
    "print(l1)\n",
    "f2=open('file2.txt','w')\n",
    "for n in l1:\n",
    "    l2.append(str(n))\n",
    "f2.writelines(l2)\n",
    "f2.close()"
   ]
  },
  {
   "cell_type": "code",
   "execution_count": null,
   "metadata": {},
   "outputs": [],
   "source": []
  },
  {
   "cell_type": "code",
   "execution_count": null,
   "metadata": {},
   "outputs": [],
   "source": []
  },
  {
   "cell_type": "code",
   "execution_count": null,
   "metadata": {},
   "outputs": [],
   "source": []
  }
 ],
 "metadata": {
  "kernelspec": {
   "display_name": "Python 3",
   "language": "python",
   "name": "python3"
  },
  "language_info": {
   "codemirror_mode": {
    "name": "ipython",
    "version": 3
   },
   "file_extension": ".py",
   "mimetype": "text/x-python",
   "name": "python",
   "nbconvert_exporter": "python",
   "pygments_lexer": "ipython3",
   "version": "3.6.0"
  }
 },
 "nbformat": 4,
 "nbformat_minor": 2
}
